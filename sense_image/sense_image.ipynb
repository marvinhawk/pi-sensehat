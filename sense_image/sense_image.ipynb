{
 "cells": [
  {
   "cell_type": "code",
   "execution_count": 3,
   "metadata": {},
   "outputs": [],
   "source": [
    "from sense_hat import SenseHat\n",
    "from PIL import Image\n",
    "import os\n",
    "import random"
   ]
  },
  {
   "cell_type": "code",
   "execution_count": 7,
   "metadata": {},
   "outputs": [],
   "source": [
    "sense = SenseHat()"
   ]
  },
  {
   "cell_type": "code",
   "execution_count": 8,
   "metadata": {},
   "outputs": [],
   "source": [
    "sense.set_rotation(180)"
   ]
  },
  {
   "cell_type": "code",
   "execution_count": 9,
   "metadata": {},
   "outputs": [],
   "source": [
    "def draw_img(image_path):\n",
    "    im = Image.open(image_path)\n",
    "    \n",
    "    sm = im.resize((8,8))\n",
    "    \n",
    "    if sm.mode != 'RGB':\n",
    "        sm = sm.convert('RGB')\n",
    "    \n",
    "    pix = sm.load()\n",
    "    \n",
    "    display = []\n",
    "    \n",
    "    for row in range(8):\n",
    "        for n in range(8):\n",
    "            display.append(pix[n, row])\n",
    "    \n",
    "    sense.set_pixels(display)"
   ]
  },
  {
   "cell_type": "code",
   "execution_count": 5,
   "metadata": {},
   "outputs": [],
   "source": [
    "ext = ['jpeg', 'jpg', 'png']\n",
    "folder = 'img'\n",
    "\n",
    "imgs = [os.path.join(folder, img) for img in os.listdir(folder) if img.lower().split('.')[1] in ext]"
   ]
  },
  {
   "cell_type": "code",
   "execution_count": 61,
   "metadata": {},
   "outputs": [],
   "source": [
    "sense.low_light = True"
   ]
  },
  {
   "cell_type": "code",
   "execution_count": 19,
   "metadata": {},
   "outputs": [
    {
     "name": "stdout",
     "output_type": "stream",
     "text": [
      "img/ml.jpg\n"
     ]
    }
   ],
   "source": [
    "im_path = random.choice(imgs)\n",
    "print(im_path)\n",
    "draw_img(im_path)"
   ]
  }
 ],
 "metadata": {
  "kernelspec": {
   "display_name": "Python 3",
   "language": "python",
   "name": "python3"
  },
  "language_info": {
   "codemirror_mode": {
    "name": "ipython",
    "version": 3
   },
   "file_extension": ".py",
   "mimetype": "text/x-python",
   "name": "python",
   "nbconvert_exporter": "python",
   "pygments_lexer": "ipython3",
   "version": "3.7.3"
  }
 },
 "nbformat": 4,
 "nbformat_minor": 4
}
