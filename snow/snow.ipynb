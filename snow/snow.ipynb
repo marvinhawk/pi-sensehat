{
 "cells": [
  {
   "cell_type": "markdown",
   "metadata": {},
   "source": [
    "# Snow"
   ]
  },
  {
   "cell_type": "code",
   "execution_count": 1,
   "metadata": {},
   "outputs": [],
   "source": [
    "from sense_hat import SenseHat\n",
    "import random\n",
    "from time import sleep"
   ]
  },
  {
   "cell_type": "code",
   "execution_count": 2,
   "metadata": {},
   "outputs": [],
   "source": [
    "sense = SenseHat()"
   ]
  },
  {
   "cell_type": "code",
   "execution_count": 3,
   "metadata": {},
   "outputs": [],
   "source": [
    "sense.set_rotation(180)"
   ]
  },
  {
   "cell_type": "code",
   "execution_count": 4,
   "metadata": {},
   "outputs": [],
   "source": [
    "sense.clear()"
   ]
  },
  {
   "cell_type": "code",
   "execution_count": 8,
   "metadata": {},
   "outputs": [],
   "source": [
    "SNOWFLAKES = 'surprise me'\n",
    "\n",
    "w = [255, 255, 255]\n",
    "b = [0, 0, 0]\n",
    "frame = [b for i in range(64)]"
   ]
  },
  {
   "cell_type": "code",
   "execution_count": 10,
   "metadata": {},
   "outputs": [],
   "source": [
    "def get_row(n=SNOWFLAKES):\n",
    "    if n == 'surprise me':\n",
    "        n = random.randint(1,3)\n",
    "    flakes = [random.randint(0, 7) for i in range(n)]\n",
    "    for i in flakes:\n",
    "        frame[i] = w"
   ]
  },
  {
   "cell_type": "code",
   "execution_count": 11,
   "metadata": {},
   "outputs": [],
   "source": [
    "try:\n",
    "    while True:\n",
    "        get_row()\n",
    "        sense.set_pixels(frame)\n",
    "        new_frame = frame.copy()\n",
    "        for i in range(64):\n",
    "            if i < 64 - 8:\n",
    "                if frame[i] == w:\n",
    "                    new_frame[i] = b\n",
    "                    new_frame[i + 8] = w\n",
    "        frame = new_frame\n",
    "        \n",
    "        sleep(.5)\n",
    "\n",
    "except KeyboardInterrupt:\n",
    "    sense.clear()\n",
    "    frame = [b for i in range(64)]"
   ]
  }
 ],
 "metadata": {
  "kernelspec": {
   "display_name": "Python 3",
   "language": "python",
   "name": "python3"
  },
  "language_info": {
   "codemirror_mode": {
    "name": "ipython",
    "version": 3
   },
   "file_extension": ".py",
   "mimetype": "text/x-python",
   "name": "python",
   "nbconvert_exporter": "python",
   "pygments_lexer": "ipython3",
   "version": "3.7.3"
  }
 },
 "nbformat": 4,
 "nbformat_minor": 4
}
