{
 "cells": [
  {
   "cell_type": "markdown",
   "metadata": {},
   "source": [
    "# Binary Time and Date"
   ]
  },
  {
   "cell_type": "markdown",
   "metadata": {},
   "source": [
    "## Setup"
   ]
  },
  {
   "cell_type": "code",
   "execution_count": 1,
   "metadata": {},
   "outputs": [],
   "source": [
    "from sense_hat import SenseHat\n",
    "from time import localtime, sleep"
   ]
  },
  {
   "cell_type": "code",
   "execution_count": 2,
   "metadata": {},
   "outputs": [],
   "source": [
    "sense = SenseHat()"
   ]
  },
  {
   "cell_type": "code",
   "execution_count": 3,
   "metadata": {},
   "outputs": [],
   "source": [
    "# Optional LED dimming\n",
    "sense.low_light = True"
   ]
  },
  {
   "cell_type": "code",
   "execution_count": 4,
   "metadata": {},
   "outputs": [],
   "source": [
    "# Optional rotation\n",
    "sense.set_rotation(180)"
   ]
  },
  {
   "cell_type": "markdown",
   "metadata": {},
   "source": [
    "## Helper functions"
   ]
  },
  {
   "cell_type": "code",
   "execution_count": 5,
   "metadata": {},
   "outputs": [],
   "source": [
    "def to_binary(num):\n",
    "    return [int(n) for n in bin(num).replace('0b', '')]"
   ]
  },
  {
   "cell_type": "code",
   "execution_count": 6,
   "metadata": {},
   "outputs": [],
   "source": [
    "def build_line(num, colour):\n",
    "    line = [colour if val else black for val in num]\n",
    "    line = [black] * (8 - len(line)) + line\n",
    "    return line"
   ]
  },
  {
   "cell_type": "markdown",
   "metadata": {},
   "source": [
    "## Colours"
   ]
  },
  {
   "cell_type": "code",
   "execution_count": 7,
   "metadata": {},
   "outputs": [],
   "source": [
    "hour_colour = [100, 255, 100]\n",
    "min_colour = [180, 255, 100]\n",
    "sec_colour = [255, 255, 100]\n",
    "\n",
    "year_colour = [100, 100, 255]\n",
    "mon_colour = [100, 180, 255]\n",
    "day_colour = [100, 255, 255]\n",
    "\n",
    "black = [0, 0, 0]\n",
    "blank_line = [black] * 8"
   ]
  },
  {
   "cell_type": "markdown",
   "metadata": {},
   "source": [
    "## Run The Clock"
   ]
  },
  {
   "cell_type": "code",
   "execution_count": null,
   "metadata": {},
   "outputs": [],
   "source": [
    "try:\n",
    "    while True:\n",
    "        hour = build_line(to_binary(localtime().tm_hour), hour_colour)\n",
    "        minute = build_line(to_binary(localtime().tm_min), min_colour)\n",
    "        second = build_line(to_binary(localtime().tm_sec), sec_colour)\n",
    "        \n",
    "        year = build_line(to_binary(localtime().tm_year - 2000), year_colour)\n",
    "        month = build_line(to_binary(localtime().tm_mon), mon_colour)\n",
    "        day = build_line(to_binary(localtime().tm_mday), day_colour)\n",
    "    \n",
    "        display = hour + minute + second + blank_line + blank_line + year + month + day\n",
    "\n",
    "        sense.set_pixels(display)\n",
    "        \n",
    "        sleep(1)\n",
    "except KeyboardInterrupt:\n",
    "    sense.clear()"
   ]
  }
 ],
 "metadata": {
  "kernelspec": {
   "display_name": "Python 3",
   "language": "python",
   "name": "python3"
  },
  "language_info": {
   "codemirror_mode": {
    "name": "ipython",
    "version": 3
   },
   "file_extension": ".py",
   "mimetype": "text/x-python",
   "name": "python",
   "nbconvert_exporter": "python",
   "pygments_lexer": "ipython3",
   "version": "3.7.3"
  }
 },
 "nbformat": 4,
 "nbformat_minor": 4
}
